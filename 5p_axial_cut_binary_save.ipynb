{
 "cells": [
  {
   "cell_type": "code",
   "execution_count": 4,
   "metadata": {},
   "outputs": [],
   "source": [
    "# Setting up the environments\n",
    "import numpy as np\n",
    "import matplotlib as ml\n",
    "import matplotlib.pyplot as plt\n",
    "import ioeddy as io \n",
    "import matplotlib.gridspec as gridspec\n",
    "import pandas as pd\n",
    "import struct as st\n",
    "import seaborn as sns\n",
    "import cmocean\n",
    "import palettable\n",
    "import time\n",
    "import csv\n",
    "import ioeddy as io\n",
    "from scipy.io import FortranFile"
   ]
  },
  {
   "cell_type": "raw",
   "metadata": {},
   "source": [
    "# Parameters for the 5 plane data files\n",
    "kmin = 298\n",
    "kmax = 302\n",
    "\n",
    "NKRR = np.int(kmax - kmin + 1 + 5*np.floor((4610-kmax)/100))\n",
    "print('NKRR', NKRR) "
   ]
  },
  {
   "cell_type": "code",
   "execution_count": 13,
   "metadata": {},
   "outputs": [
    {
     "name": "stdout",
     "output_type": "stream",
     "text": [
      "Number of grid points in x direction 4609\n",
      "Number of grid points in r direction 365\n"
     ]
    }
   ],
   "source": [
    "# Read Grid\n",
    "nx, index, x, xe, xc = io.readgrid('/home/sheel/Work/projects/spod_re5e4/grid/frinf/x3_grid.in')\n",
    "nr, index, r, re, rc = io.readgrid('/home/sheel/Work/projects/spod_re5e4/grid/frinf/x1_grid.in')\n",
    "print(\"Number of grid points in x direction\", nx)\n",
    "print(\"Number of grid points in r direction\", nr)"
   ]
  },
  {
   "cell_type": "code",
   "execution_count": 14,
   "metadata": {},
   "outputs": [
    {
     "name": "stdout",
     "output_type": "stream",
     "text": [
      "NKRR 220\n"
     ]
    }
   ],
   "source": [
    "# Map the grid to actual location of the data files\n",
    "kmin = 298\n",
    "kmax = 302\n",
    "\n",
    "NKRR = np.int(kmax - kmin + 1 + 5*np.floor((4610-kmax)/100))\n",
    "print('NKRR', NKRR) \n",
    "\n",
    "xc_data_file = np.zeros([NKRR],dtype=float)\n",
    "xc_data_file[0:kmax-kmin+1] = xc[kmin-1:kmax] # Storing the disk location\n",
    "\n",
    "mk = (kmax-kmin+1)   \n",
    "nk = 1\n",
    "\n",
    "for i in range(0,np.int(np.floor((4610-kmax)/100))):\n",
    "    i_actual = kmax + nk*100 - 1\n",
    "    xc_data_file[mk]   = xc[i_actual-2]  \n",
    "    xc_data_file[mk+1] = xc[i_actual-1]  \n",
    "    xc_data_file[mk+2] = xc[i_actual]  \n",
    "    xc_data_file[mk+3] = xc[i_actual+1] \n",
    "    xc_data_file[mk+4] = xc[i_actual+2]  \n",
    "    mk = mk + 5\n",
    "    nk = nk + 1\n",
    "    \n",
    "#print(xc_data_file)\n",
    "\n",
    "rc_data_file = rc[0:nr-10+1]"
   ]
  },
  {
   "cell_type": "code",
   "execution_count": 15,
   "metadata": {},
   "outputs": [
    {
     "name": "stdout",
     "output_type": "stream",
     "text": [
      "[ 5.23045932  9.48706881 15.02007802 60.87916779 64.98611302 69.05460349\n",
      " 98.41029527]\n"
     ]
    }
   ],
   "source": [
    "# Extracting array location at a given x/D\n",
    "v = np.array([5, 10, 15, 60, 65, 70, 100])\n",
    "idx = np.zeros((7))\n",
    "size_v = np.shape(v)\n",
    "for i in range(0, size_v[0]):\n",
    "    idx[i] =  np.int((np.abs(xc_data_file - v[i])).argmin())\n",
    "idx = idx.astype(int)\n",
    "print(xc_data_file[idx]) "
   ]
  },
  {
   "cell_type": "code",
   "execution_count": 25,
   "metadata": {},
   "outputs": [
    {
     "name": "stdout",
     "output_type": "stream",
     "text": [
      "189\n"
     ]
    }
   ],
   "source": [
    "print(idx[6])"
   ]
  },
  {
   "cell_type": "code",
   "execution_count": 71,
   "metadata": {},
   "outputs": [],
   "source": [
    "# Read 5p data file\n",
    "def read5p2(filename):\n",
    "        f = open(filename,'rb')\n",
    "        _,i,j,k,jp,_ = st.unpack('i'*6,f.read(24))\n",
    "        k = 220\n",
    "        i = i - 10\n",
    "        print('i',i)\n",
    "        \n",
    "        data=np.zeros([i,j,k],dtype=float)\n",
    "\n",
    "        for kk in range (0,k):\n",
    "    \n",
    "                dummy1 = st.unpack('i',f.read(4))    \n",
    "                data[:,:,kk]=np.reshape(st.unpack('d'*i*j,f.read(8*i*j)),(i,j),order='F')\n",
    "                dummy2 = st.unpack('i',f.read(4))\n",
    "    \n",
    "                if dummy1 != dummy2:\n",
    "                        print('Error reading',kk)\n",
    "                        break\n",
    "        \n",
    "        _,it,_,_,time,_,_,dt,grav,_=st.unpack('iiiidiiddi',f.read(4*7+3*8))\n",
    "        \n",
    "        return i,j,k,it,time,dt,grav,data\n",
    "        print('Read the data file')"
   ]
  },
  {
   "cell_type": "code",
   "execution_count": 72,
   "metadata": {},
   "outputs": [
    {
     "name": "stdout",
     "output_type": "stream",
     "text": [
      "Entering this loop\n"
     ]
    },
    {
     "ename": "FileNotFoundError",
     "evalue": "[Errno 2] No such file or directory: '/p/work/snidhan/spod_re5e4/frinf/DATA_FILES/up_datafiles/up_01892600.res'",
     "output_type": "error",
     "traceback": [
      "\u001b[0;31m---------------------------------------------------------------------------\u001b[0m",
      "\u001b[0;31mFileNotFoundError\u001b[0m                         Traceback (most recent call last)",
      "\u001b[0;32m<ipython-input-72-19a823653681>\u001b[0m in \u001b[0;36m<module>\u001b[0;34m\u001b[0m\n\u001b[1;32m     23\u001b[0m \u001b[0;34m\u001b[0m\u001b[0m\n\u001b[1;32m     24\u001b[0m     \u001b[0mfilename\u001b[0m \u001b[0;34m=\u001b[0m \u001b[0mpath_up\u001b[0m \u001b[0;34m+\u001b[0m \u001b[0mfile_up\u001b[0m \u001b[0;34m+\u001b[0m  \u001b[0mi_pad\u001b[0m \u001b[0;34m+\u001b[0m \u001b[0;34m'.res'\u001b[0m\u001b[0;34m\u001b[0m\u001b[0;34m\u001b[0m\u001b[0m\n\u001b[0;32m---> 25\u001b[0;31m     \u001b[0mi\u001b[0m\u001b[0;34m,\u001b[0m\u001b[0mj\u001b[0m\u001b[0;34m,\u001b[0m\u001b[0mk\u001b[0m\u001b[0;34m,\u001b[0m\u001b[0mit\u001b[0m\u001b[0;34m,\u001b[0m\u001b[0mtime\u001b[0m\u001b[0;34m,\u001b[0m\u001b[0mdt\u001b[0m\u001b[0;34m,\u001b[0m\u001b[0mgrav\u001b[0m\u001b[0;34m,\u001b[0m\u001b[0mdata\u001b[0m \u001b[0;34m=\u001b[0m \u001b[0mread5p2\u001b[0m\u001b[0;34m(\u001b[0m\u001b[0mfilename\u001b[0m\u001b[0;34m)\u001b[0m\u001b[0;34m\u001b[0m\u001b[0;34m\u001b[0m\u001b[0m\n\u001b[0m\u001b[1;32m     26\u001b[0m     \u001b[0mprint\u001b[0m\u001b[0;34m(\u001b[0m\u001b[0mfilename\u001b[0m\u001b[0;34m)\u001b[0m\u001b[0;34m\u001b[0m\u001b[0;34m\u001b[0m\u001b[0m\n\u001b[1;32m     27\u001b[0m \u001b[0;34m\u001b[0m\u001b[0m\n",
      "\u001b[0;32m<ipython-input-71-6c09a89958c7>\u001b[0m in \u001b[0;36mread5p2\u001b[0;34m(filename)\u001b[0m\n\u001b[1;32m      1\u001b[0m \u001b[0;31m# Read 5p data file\u001b[0m\u001b[0;34m\u001b[0m\u001b[0;34m\u001b[0m\u001b[0;34m\u001b[0m\u001b[0m\n\u001b[1;32m      2\u001b[0m \u001b[0;32mdef\u001b[0m \u001b[0mread5p2\u001b[0m\u001b[0;34m(\u001b[0m\u001b[0mfilename\u001b[0m\u001b[0;34m)\u001b[0m\u001b[0;34m:\u001b[0m\u001b[0;34m\u001b[0m\u001b[0;34m\u001b[0m\u001b[0m\n\u001b[0;32m----> 3\u001b[0;31m         \u001b[0mf\u001b[0m \u001b[0;34m=\u001b[0m \u001b[0mopen\u001b[0m\u001b[0;34m(\u001b[0m\u001b[0mfilename\u001b[0m\u001b[0;34m,\u001b[0m\u001b[0;34m'rb'\u001b[0m\u001b[0;34m)\u001b[0m\u001b[0;34m\u001b[0m\u001b[0;34m\u001b[0m\u001b[0m\n\u001b[0m\u001b[1;32m      4\u001b[0m         \u001b[0m_\u001b[0m\u001b[0;34m,\u001b[0m\u001b[0mi\u001b[0m\u001b[0;34m,\u001b[0m\u001b[0mj\u001b[0m\u001b[0;34m,\u001b[0m\u001b[0mk\u001b[0m\u001b[0;34m,\u001b[0m\u001b[0mjp\u001b[0m\u001b[0;34m,\u001b[0m\u001b[0m_\u001b[0m \u001b[0;34m=\u001b[0m \u001b[0mst\u001b[0m\u001b[0;34m.\u001b[0m\u001b[0munpack\u001b[0m\u001b[0;34m(\u001b[0m\u001b[0;34m'i'\u001b[0m\u001b[0;34m*\u001b[0m\u001b[0;36m6\u001b[0m\u001b[0;34m,\u001b[0m\u001b[0mf\u001b[0m\u001b[0;34m.\u001b[0m\u001b[0mread\u001b[0m\u001b[0;34m(\u001b[0m\u001b[0;36m24\u001b[0m\u001b[0;34m)\u001b[0m\u001b[0;34m)\u001b[0m\u001b[0;34m\u001b[0m\u001b[0;34m\u001b[0m\u001b[0m\n\u001b[1;32m      5\u001b[0m         \u001b[0mk\u001b[0m \u001b[0;34m=\u001b[0m \u001b[0;36m220\u001b[0m\u001b[0;34m\u001b[0m\u001b[0;34m\u001b[0m\u001b[0m\n",
      "\u001b[0;31mFileNotFoundError\u001b[0m: [Errno 2] No such file or directory: '/p/work/snidhan/spod_re5e4/frinf/DATA_FILES/up_datafiles/up_01892600.res'"
     ]
    }
   ],
   "source": [
    "nstart = 1892600\n",
    "nend   = 2613200\n",
    "stride = 100\n",
    "ntheta = 258\n",
    "tot_size = np.int((nend-nstart)/stride + 1)\n",
    "path_up = '/p/work/snidhan/spod_re5e4/frinf/DATA_FILES/up_datafiles/'\n",
    "path_vp = '/p/work/snidhan/spod_re5e4/frinf/DATA_FILES/vp_datafiles/'\n",
    "path_wp = '/p/work/snidhan/spod_re5e4/frinf/DATA_FILES/wp_datafiles/'\n",
    "\n",
    "file_up = 'up_'\n",
    "file_vp = 'up_'\n",
    "file_wp = 'up_'\n",
    "\n",
    "count = 0\n",
    "time_array = np.zeros([tot_size],dtype='float64')\n",
    "data_idx = np.zeros([356,258,size_v[0]],dtype='float64')\n",
    "\n",
    "for step in range(nstart,nend+100,100):\n",
    "    \n",
    "    print('Entering this loop')\n",
    "    \n",
    "    i_pad = str(step).zfill(8)\n",
    "    \n",
    "    filename = path_up + file_up +  i_pad + '.res'\n",
    "    i,j,k,it,time,dt,grav,data = read5p2(filename)\n",
    "    print(filename) \n",
    "    \n",
    "    time_array[count] = time\n",
    "    \n",
    "    for i in range(0,size_v[0]):\n",
    "        filename1 = path_up + file_up + i_pad + '_'+ str(idx[i]) + '.res'\n",
    "        data_f = data_idx[:,:,idx[i]].reshape(nr-10+1,ntheta,order='F')\n",
    "        data_f.T.tofile(filename1)\n",
    "\n",
    "    filename = path_vp + file_vp +  i_pad + '.res'\n",
    "    i,j,k,it,time,dt,grav,data = read5p2(filename)\n",
    "    print(filename) \n",
    "    \n",
    "    for i in range(0,size_v[0]):\n",
    "        filename1 = path_vp + file_vp + i_pad + '_'+ str(idx[i]) + '.res'\n",
    "        data_f = data_idx[:,:,idx[i]].reshape(nr-10+1,ntheta,order='F')\n",
    "        data_f.T.tofile(filename1)\n",
    "\n",
    "    filename = path_wp + file_wp +  i_pad + '.res'\n",
    "    i,j,k,it,time,dt,grav,data = read5p2(filename)\n",
    "    print(filename) \n",
    "    \n",
    "    for i in range(0,size_v[0]):\n",
    "        filename1 = path_wp + file_wp + i_pad + '_'+ str(idx[i]) + '.res'\n",
    "        data_f = data_idx[:,:,idx[i]].reshape(nr-10+1,ntheta,order='F')\n",
    "        data_f.T.tofile(filename1)\n",
    "        \n",
    "    print('Written ', step)\n",
    "    \n",
    "    file = 'time_stamp.txt'\n",
    "    filename = path + file\n",
    "    \n",
    "    f = open(filename, \"w\")\n",
    "    \n",
    "    for x in range(0,tot_size):\n",
    "        print(x)\n",
    "        f.write(str(time_array[x]) + \"\\n\")\n",
    "    f.close() "
   ]
  }
 ],
 "metadata": {
  "kernelspec": {
   "display_name": "Python 3",
   "language": "python",
   "name": "python3"
  },
  "language_info": {
   "codemirror_mode": {
    "name": "ipython",
    "version": 3
   },
   "file_extension": ".py",
   "mimetype": "text/x-python",
   "name": "python",
   "nbconvert_exporter": "python",
   "pygments_lexer": "ipython3",
   "version": "3.6.8"
  }
 },
 "nbformat": 4,
 "nbformat_minor": 2
}
